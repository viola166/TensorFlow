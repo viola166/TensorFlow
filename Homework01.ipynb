{
  "nbformat": 4,
  "nbformat_minor": 0,
  "metadata": {
    "colab": {
      "provenance": []
    },
    "kernelspec": {
      "name": "python3",
      "display_name": "Python 3"
    },
    "language_info": {
      "name": "python"
    }
  },
  "cells": [
    {
      "cell_type": "code",
      "execution_count": null,
      "metadata": {
        "id": "CtmXY_DL9r22"
      },
      "outputs": [],
      "source": [
        "from sklearn.datasets import load_digits\n",
        "import numpy as np\n",
        "import random\n",
        "import matplotlib.pyplot as plt"
      ]
    },
    {
      "cell_type": "code",
      "source": [
        "# Load the digits dataset\n",
        "digits = load_digits()\n",
        "data, target = digits.data, digits.target\n",
        "data_and_target = [(data[i], target[i]) for i in range(len(data))]\n"
      ],
      "metadata": {
        "id": "sZsSGaBs-ApD"
      },
      "execution_count": null,
      "outputs": []
    },
    {
      "cell_type": "code",
      "source": [
        "# # Plot the first few images to verify the dataset\n",
        "# num_images_to_plot = 10\n",
        "# images = digits.images\n",
        "# for i in range(num_images_to_plot):\n",
        "#     plt.gray()\n",
        "#     plt.matshow(images[i])\n",
        "\n",
        "#data should be between 0 and 1\n",
        "max = np.max(data)\n",
        "scaled_data = [data[i] /max for i in range(len(data))]\n",
        "\n",
        "#encode\n",
        "target_encoded = []\n",
        "\n",
        "for t in target:\n",
        "  one_hot = [0]*10\n",
        "  one_hot[t] = 1\n",
        "  target_encoded.append(one_hot)\n",
        "\n",
        "data_pairs = [(list(scaled_data[i]), target_encoded[i]) for i in range(len(data))]\n",
        "\n",
        "\n",
        "def create_minibatches(size):\n",
        "    shuffle_set = data_pairs\n",
        "    random.shuffle(shuffle_set)\n",
        "    return shuffle_set[:size]\n"
      ],
      "metadata": {
        "id": "P3272XKs-F82"
      },
      "execution_count": null,
      "outputs": []
    },
    {
      "cell_type": "code",
      "source": [
        "#Sigmoid Activation Object\n",
        "class SigmoidActivation():\n",
        "  #forward\n",
        "  def __call__(self,inputs):\n",
        "    return 1.0/(1.0 + np.exp(-inputs))\n",
        "\n",
        "  #backprop step\n",
        "  def backward(self, preactivation, error_signal):\n",
        "      # Calculate the derivative of the sigmoid with respect to the pre-activation\n",
        "      sigmoid_activation = SigmoidActivation()\n",
        "      s = sigmoid_activation(preactivation)\n",
        "      sigmoid_derivative = s * (1 - s)\n",
        "\n",
        "      # Calculate the gradient of the loss with respect to the pre-activation\n",
        "      gradient = np.dot(sigmoid_derivative,error_signal)\n",
        "      return gradient\n"
      ],
      "metadata": {
        "id": "PCgsa8KN-qUm"
      },
      "execution_count": null,
      "outputs": []
    },
    {
      "cell_type": "code",
      "source": [
        "#Softmax activation\n",
        "class SoftmaxActivation():\n",
        "    #forward\n",
        "    def __call__(self, inputs):\n",
        "        exp_inputs = np.exp(inputs - np.max(inputs))\n",
        "        output = exp_inputs / np.sum(exp_inputs)\n",
        "        return output"
      ],
      "metadata": {
        "id": "bYtUMlPYErVc"
      },
      "execution_count": null,
      "outputs": []
    },
    {
      "cell_type": "code",
      "source": [
        "class CCELoss():\n",
        "    def __call__(self, predictions, targets):\n",
        "        # shape.predictions = (minibatchsize, prediction_size = 10)\n",
        "        # shape.targets = (minibatchsize, prediction_size = 10)\n",
        "        output = []\n",
        "        for prediction,target in zip(predictions,targets):\n",
        "          loss = -np.sum(target * np.log(prediction))\n",
        "          output.append(loss)\n",
        "        return output\n",
        "\n",
        "    def backwards(self, predictions, targets):\n",
        "        # Calculate the gradient of loss w.r.t. predicted values (ˆy)\n",
        "        output = []\n",
        "        for prediction,target in zip(predictions,targets):\n",
        "          gradient = np.sum(prediction - target)\n",
        "          output.append(gradient)\n",
        "        return output"
      ],
      "metadata": {
        "id": "XfNFQDZ1E-s0"
      },
      "execution_count": null,
      "outputs": []
    },
    {
      "cell_type": "code",
      "source": [
        "from numpy.core.fromnumeric import shape\n",
        "class MLP_layer():\n",
        "\n",
        "  def __init__(self, num_inputs, num_units, activation_function):\n",
        "    #num_input: num of units in preceiding layer\n",
        "    #num_units: how many single perceptrons do we have in this layer?\n",
        "    #weights: 2-d array of size (num_units, num_inputs)\n",
        "    self.num_inputs = num_inputs\n",
        "    self.num_units = num_units\n",
        "    self.activation_function = activation_function\n",
        "    self.bias = np.zeros((self.num_units,))\n",
        "    self.weights = np.random.normal(loc=0, scale=0.2, size=(self.num_units, self.num_inputs))\n",
        "    self.pre_activations = []\n",
        "    self.alpha = 1\n",
        "\n",
        "\n",
        "  def set_weights(self, weights, bias):\n",
        "    self.weights = weights\n",
        "    self.bias = bias\n",
        "\n",
        "  def forward(self, x):\n",
        "    output = []\n",
        "    for unit in x:\n",
        "      self.pre_activations = self.weights @ unit + np.transpose(self.bias)\n",
        "      self.activations = self.activation_function(self.pre_activations)\n",
        "      output.append(self.activations)\n",
        "    return output\n",
        "\n",
        "  def backward(self, delta):\n",
        "\n",
        "    for weight,b,pre_activation in zip(self.weights,self.bias,self.pre_activations):\n",
        "      weight -= self.alpha * delta* pre_activation\n",
        "      b -= self.alpha * delta\n"
      ],
      "metadata": {
        "id": "muThU1DoEmgw"
      },
      "execution_count": null,
      "outputs": []
    },
    {
      "cell_type": "code",
      "source": [
        "class MLP():\n",
        "  def __init__(self, size_list): #sizelist [64, 5, 4, 10]\n",
        "    #size_list contains sizes of\n",
        "    self.num_layers = len(size_list)\n",
        "    self.size_list = size_list\n",
        "    self.layer_list = []\n",
        "    transformed_sizeList = [64] + self.size_list #input size is 64 in the beginning\n",
        "    #list of mlp layers\n",
        "    for i in range(self.num_layers):\n",
        "      mlp = MLP_layer(transformed_sizeList[i], transformed_sizeList[i+1], SigmoidActivation())\n",
        "      self.layer_list.append(mlp)\n",
        "    #output layer\n",
        "    self.layer_list.append(MLP_layer(self.size_list[self.num_layers-1], 10, SoftmaxActivation()))\n",
        "\n",
        "\n",
        "  def forward(self, input):\n",
        "    for layer in self.layer_list:\n",
        "      output = layer.forward(input)\n",
        "      input = output\n",
        "    return output\n",
        "\n",
        "\n",
        "  def backward(self, derivate_loss):\n",
        "    #for output layer\n",
        "    output_layer = self.layer_list[-1]\n",
        "    sigmoid = SigmoidActivation()\n",
        "    delta_ol = sigmoid.backward(output_layer.pre_activations, derivate_loss)# activation/ loss\n",
        "\n",
        "    output_layer.backward(delta_ol)\n",
        "    for i in reversed(range(self.num_layers-1)):\n",
        "        current_layer = self.layer_list[i]\n",
        "        delta_hl = sigmoid.backward(current_layer.pre_activations,current_layer.weights)\n",
        "        current_layer.backward(delta_hl)"
      ],
      "metadata": {
        "id": "2FOUOOhbE6Mp"
      },
      "execution_count": null,
      "outputs": []
    },
    {
      "cell_type": "code",
      "source": [
        "epochs = 10\n",
        "mlp = MLP([20,10])\n",
        "minibatches = create_minibatches(10)\n",
        "\n",
        "inputs = []\n",
        "targets = []\n",
        "for pair in minibatches:\n",
        "   inputs += [pair[0]]\n",
        "   targets += [pair[1]]\n",
        "\n",
        "arr_loss = np.zeros(epochs)\n",
        "\n",
        "for epoch in range(epochs):\n",
        "\n",
        "    accuracy = 0\n",
        "    loss = 0\n",
        "\n",
        "    #forward step\n",
        "    predictions = mlp.forward(inputs) # outcome of our mlp\n",
        "\n",
        "    loss_function = CCELoss()\n",
        "    #backward step\n",
        "    derivate_loss = loss_function.backwards(predictions, targets)\n",
        "\n",
        "    for loss in derivate_loss:\n",
        "      mlp.backward(loss)\n",
        "\n",
        "    # accuracy and loss is calculated and summed up\n",
        "    for i in range(len(predictions)):\n",
        "\n",
        "      loss += np.sum(loss_function(predictions, targets))\n",
        "\n",
        "    arr_loss[epoch] = loss/len(inputs)\n"
      ],
      "metadata": {
        "id": "YuXPGUHakTvu"
      },
      "execution_count": null,
      "outputs": []
    },
    {
      "cell_type": "code",
      "source": [
        "#Visulalisation of loss\n",
        "plt.figure()\n",
        "plt.plot(range(epochs),arr_loss)\n",
        "plt.xlabel(\"Epoch\")\n",
        "plt.ylabel(\"Loss\")\n",
        "plt.show()"
      ],
      "metadata": {
        "colab": {
          "base_uri": "https://localhost:8080/",
          "height": 449
        },
        "id": "H-mJxfvaxrOj",
        "outputId": "7947d755-b7bd-4454-f8a7-eb57c2cb2cc7"
      },
      "execution_count": null,
      "outputs": [
        {
          "output_type": "display_data",
          "data": {
            "text/plain": [
              "<Figure size 640x480 with 1 Axes>"
            ],
            "image/png": "[encoded data removed]"
          },
          "metadata": {}
        }
      ]
    }
  ]
}