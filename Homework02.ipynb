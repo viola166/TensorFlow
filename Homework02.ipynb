{
  "nbformat": 4,
  "nbformat_minor": 0,
  "metadata": {
    "colab": {
      "provenance": []
    },
    "kernelspec": {
      "name": "python3",
      "display_name": "Python 3"
    },
    "language_info": {
      "name": "python"
    }
  },
  "cells": [
    {
      "cell_type": "code",
      "execution_count": 48,
      "metadata": {
        "id": "PBDxPQndiE0q",
        "colab": {
          "base_uri": "https://localhost:8080/"
        },
        "outputId": "77bb16aa-7ebb-48b3-e7bd-21fc9aa379a1"
      },
      "outputs": [
        {
          "output_type": "stream",
          "name": "stdout",
          "text": [
            "tfds.core.DatasetInfo(\n",
            "    name='mnist',\n",
            "    full_name='mnist/3.0.1',\n",
            "    description=\"\"\"\n",
            "    The MNIST database of handwritten digits.\n",
            "    \"\"\",\n",
            "    homepage='http://yann.lecun.com/exdb/mnist/',\n",
            "    data_dir='/root/tensorflow_datasets/mnist/3.0.1',\n",
            "    file_format=tfrecord,\n",
            "    download_size=11.06 MiB,\n",
            "    dataset_size=21.00 MiB,\n",
            "    features=FeaturesDict({\n",
            "        'image': Image(shape=(28, 28, 1), dtype=uint8),\n",
            "        'label': ClassLabel(shape=(), dtype=int64, num_classes=10),\n",
            "    }),\n",
            "    supervised_keys=('image', 'label'),\n",
            "    disable_shuffling=False,\n",
            "    splits={\n",
            "        'test': <SplitInfo num_examples=10000, num_shards=1>,\n",
            "        'train': <SplitInfo num_examples=60000, num_shards=1>,\n",
            "    },\n",
            "    citation=\"\"\"@article{lecun2010mnist,\n",
            "      title={MNIST handwritten digit database},\n",
            "      author={LeCun, Yann and Cortes, Corinna and Burges, CJ},\n",
            "      journal={ATT Labs [Online]. Available: http://yann.lecun.com/exdb/mnist},\n",
            "      volume={2},\n",
            "      year={2010}\n",
            "    }\"\"\",\n",
            ")\n"
          ]
        }
      ],
      "source": [
        "import tensorflow_datasets as tfds\n",
        "import tensorflow as tf\n",
        "import numpy as np\n",
        "(train_ds, test_ds), ds_info = tfds.load('mnist', split=['train', 'test'], as_supervised=True, with_info=True)\n",
        "\n",
        "print(ds_info)"
      ]
    },
    {
      "cell_type": "markdown",
      "source": [
        "training images: 60.000\n",
        "test images: 10.000\n",
        "\n",
        "image shape: (28, 28, 1)\n",
        "\n",
        "pixel values: 0 - 255"
      ],
      "metadata": {
        "id": "duVeHeU7nbCx"
      }
    },
    {
      "cell_type": "code",
      "source": [
        "#tfds.show_examples(train_ds, ds_info)"
      ],
      "metadata": {
        "id": "WRbd2T5dqeqG"
      },
      "execution_count": 49,
      "outputs": []
    },
    {
      "cell_type": "code",
      "source": [
        "def prepare_mnist_data(mnist):\n",
        "  #flatten the images into vectors\n",
        "  mnist = mnist.map(lambda img, target: (tf.reshape(img, (-1,)), target))\n",
        "  #convert data from uint8 to float32\n",
        "  mnist = mnist.map(lambda img, target: (tf.cast(img, tf.float32), target))\n",
        "  #sloppy input normalization, just bringing image values from range [0, 255] to [-1, 1]\n",
        "  mnist = mnist.map(lambda img, target: ((img/128.)-1., target))\n",
        "  #create one-hot targets\n",
        "  mnist = mnist.map(lambda img, target: (img, tf.one_hot(target, depth=10)))\n",
        "  #cache this progress in memory, as there is no need to redo it; it is deterministic after all\n",
        "  mnist = mnist.cache()\n",
        "  #shuffle, batch, prefetch\n",
        "  mnist = mnist.shuffle(1000)\n",
        "  mnist = mnist.batch(32)\n",
        "  mnist = mnist.prefetch(20)\n",
        "  #return preprocessed dataset\n",
        "  return mnist\n",
        "\n",
        "train_dataset = train_ds.apply(prepare_mnist_data)\n",
        "test_dataset = test_ds.apply(prepare_mnist_data)"
      ],
      "metadata": {
        "id": "EV7MVUPvmidO"
      },
      "execution_count": 50,
      "outputs": []
    },
    {
      "cell_type": "code",
      "source": [
        "class Dense(tf.keras.layers.Layer):\n",
        "\n",
        "    def __init__(self, n_units, activation, **kwargs):\n",
        "        super(Dense, self).__init__(**kwargs)\n",
        "        # no variables created\n",
        "        self.n_units = n_units\n",
        "        self.activation = activation\n",
        "\n",
        "    def build(self, input_shape):\n",
        "        self.w = tf.Variable(tf.random.normal([input_shape[-1], self.n_units]), name='weights')\n",
        "        self.b = tf.Variable(tf.zeros([self.n_units]), name='bias')\n",
        "\n",
        "    def call(self, inputs):\n",
        "        x = inputs @ self.w + self.b\n",
        "        return self.activation_function(x)\n",
        ""
      ],
      "metadata": {
        "id": "fWpC1cLUtO3k"
      },
      "execution_count": 51,
      "outputs": []
    },
    {
      "cell_type": "code",
      "source": [
        "from tensorflow.keras.layers import Dense\n",
        "\n",
        "class MyModel(tf.keras.Model):\n",
        "\n",
        "    def __init__(self):\n",
        "        super(MyModel, self).__init__()\n",
        "        self.dense1 = Dense(20, activation=tf.nn.relu)\n",
        "        self.dense2 = Dense(20, activation=tf.nn.relu)\n",
        "        self.dense3 = Dense(20, activation=tf.nn.relu)\n",
        "        self.out = Dense(10, activation=tf.nn.softmax)\n",
        "\n",
        "    @tf.function\n",
        "    def call(self, inputs):\n",
        "        x = self.dense1(inputs)\n",
        "        x = self.dense2(x)\n",
        "        x = self.dense3(x)\n",
        "        x = self.out(x)\n",
        "        return x"
      ],
      "metadata": {
        "id": "wGQN5fMT0SVY"
      },
      "execution_count": 70,
      "outputs": []
    },
    {
      "cell_type": "code",
      "source": [
        "def train_step(model, input, target, loss_function, optimizer):\n",
        "  # loss_object and optimizer_object are instances of respective tensorflow classes\n",
        "  with tf.GradientTape() as tape:\n",
        "    prediction = model(input)\n",
        "    loss = loss_function(target, prediction)\n",
        "  gradients = tape.gradient(loss, model.trainable_variables)\n",
        "  optimizer.apply_gradients(zip(gradients, model.trainable_variables))\n",
        "  return loss\n",
        "\n",
        "def test(model, test_data, loss_function):\n",
        "  # test over complete test data\n",
        "\n",
        "  test_accuracy_aggregator = []\n",
        "  test_loss_aggregator = []\n",
        "\n",
        "  for (input, target) in test_data:\n",
        "    prediction = model(input)\n",
        "    sample_test_loss = loss_function(target, prediction)\n",
        "    sample_test_accuracy =  np.argmax(target, axis=1) == np.argmax(prediction, axis=1)\n",
        "    sample_test_accuracy = np.mean(sample_test_accuracy)\n",
        "    test_loss_aggregator.append(sample_test_loss.numpy())\n",
        "    test_accuracy_aggregator.append(np.mean(sample_test_accuracy))\n",
        "\n",
        "  test_loss = tf.reduce_mean(test_loss_aggregator)\n",
        "  test_accuracy = tf.reduce_mean(test_accuracy_aggregator)\n",
        "\n",
        "  return test_loss, test_accuracy"
      ],
      "metadata": {
        "id": "G8VSz4snt0PU"
      },
      "execution_count": 71,
      "outputs": []
    },
    {
      "cell_type": "code",
      "source": [
        "tf.keras.backend.clear_session()\n",
        "\n",
        "#For showcasing we only use a subset of the training and test data (generally use all of the available data!)\n",
        "train_dataset = train_dataset.take(1000)\n",
        "test_dataset = test_dataset.take(100)\n",
        "\n",
        "### Hyperparameters\n",
        "num_epochs = 10\n",
        "learning_rate = 0.001\n",
        "\n",
        "# Initialize the model.\n",
        "model = MyModel()\n",
        "# Initialize the loss: categorical cross entropy. Check out 'tf.keras.losses'.\n",
        "cross_entropy_loss = tf.keras.losses.CategoricalCrossentropy()\n",
        "# Initialize the optimizer: SGD with default parameters. Check out 'tf.keras.optimizers'\n",
        "optimizer = tf.keras.optimizers.SGD(learning_rate)\n",
        "\n",
        "# Initialize lists for later visualization.\n",
        "train_losses = []\n",
        "test_losses = []\n",
        "test_accuracies = []\n",
        "\n",
        "#testing once before we begin\n",
        "test_loss, test_accuracy = test(model, test_dataset, cross_entropy_loss)\n",
        "test_losses.append(test_loss)\n",
        "test_accuracies.append(test_accuracy)\n",
        "\n",
        "#check how model performs on train data once before we begin\n",
        "train_loss, _ = test(model, train_dataset, cross_entropy_loss)\n",
        "train_losses.append(train_loss)\n",
        "\n",
        "# We train for num_epochs epochs.\n",
        "for epoch in range(num_epochs):\n",
        "    print(f'Epoch: {str(epoch)} starting with accuracy {test_accuracies[-1]}')\n",
        "\n",
        "    #training (and checking in with training)\n",
        "    epoch_loss_agg = []\n",
        "    for input,target in train_dataset:\n",
        "        train_loss = train_step(model, input, target, cross_entropy_loss, optimizer)\n",
        "        epoch_loss_agg.append(train_loss)\n",
        "\n",
        "    #track training loss\n",
        "    train_losses.append(tf.reduce_mean(epoch_loss_agg))\n",
        "\n",
        "    #testing, so we can track accuracy and test loss\n",
        "    test_loss, test_accuracy = test(model, test_dataset, cross_entropy_loss)\n",
        "    test_losses.append(test_loss)\n",
        "    test_accuracies.append(test_accuracy)"
      ],
      "metadata": {
        "colab": {
          "base_uri": "https://localhost:8080/"
        },
        "id": "UHmtEeJwvvYx",
        "outputId": "73809770-ae53-4c8d-a521-f579eb84e64a"
      },
      "execution_count": 72,
      "outputs": [
        {
          "output_type": "stream",
          "name": "stdout",
          "text": [
            "Epoch: 0 starting with accuracy 0.09625\n",
            "Epoch: 1 starting with accuracy 0.344375\n",
            "Epoch: 2 starting with accuracy 0.540625\n",
            "Epoch: 3 starting with accuracy 0.6953125\n",
            "Epoch: 4 starting with accuracy 0.7828125\n",
            "Epoch: 5 starting with accuracy 0.8265625\n",
            "Epoch: 6 starting with accuracy 0.8453125\n",
            "Epoch: 7 starting with accuracy 0.864375\n",
            "Epoch: 8 starting with accuracy 0.86875\n",
            "Epoch: 9 starting with accuracy 0.8828125\n"
          ]
        }
      ]
    },
    {
      "cell_type": "code",
      "source": [
        "import matplotlib.pyplot as plt\n",
        "\n",
        "# Visualize accuracy and loss for training and test data.\n",
        "plt.figure()\n",
        "line1, = plt.plot(train_losses)\n",
        "line2, = plt.plot(test_losses)\n",
        "line3, = plt.plot(test_accuracies)\n",
        "plt.xlabel(\"Training steps\")\n",
        "plt.ylabel(\"Loss/Accuracy\")\n",
        "plt.legend((line1,line2, line3),(\"training\",\"test\", \"test accuracy\"))\n",
        "plt.show()"
      ],
      "metadata": {
        "colab": {
          "base_uri": "https://localhost:8080/",
          "height": 449
        },
        "id": "00qXLg3Yv-V6",
        "outputId": "3f6eebbf-4725-4356-a4ff-e488a4447351"
      },
      "execution_count": 73,
      "outputs": [
        {
          "output_type": "display_data",
          "data": {
            "text/plain": [
              "<Figure size 640x480 with 1 Axes>"
            ],
            "image/png": "[encoded data removed]"
          },
          "metadata": {}
        }
      ]
    },
    {
      "cell_type": "markdown",
      "source": [
        "Original setup:\n",
        "\n",
        "learning_rate = 0.001;\n",
        "batch_size = 32;\n",
        "num_layers = 3;\n",
        "size_layers = [256, 256, 10];\n",
        "optimizer = SGD\n",
        "\n",
        "\n",
        "output:\n",
        "\n",
        "Epoch: 0 starting with accuracy 0.1\n",
        "\n",
        "Epoch: 1 starting with accuracy 0.803125\n",
        "\n",
        "Epoch: 2 starting with accuracy 0.853125\n",
        "\n",
        "Epoch: 3 starting with accuracy 0.87375\n",
        "\n",
        "Epoch: 4 starting with accuracy 0.885\n",
        "\n",
        "Epoch: 5 starting with accuracy 0.8871875\n",
        "\n",
        "Epoch: 6 starting with accuracy 0.8946875\n",
        "\n",
        "Epoch: 7 starting with accuracy 0.8978125\n",
        "\n",
        "Epoch: 8 starting with accuracy 0.9021875\n",
        "\n",
        "Epoch: 9 starting with accuracy 0.9034375\n",
        "\n",
        "\n"
      ],
      "metadata": {
        "id": "z8eWQceO4IqP"
      }
    },
    {
      "cell_type": "markdown",
      "source": [
        "Change learning rate to learning_rate = 0.005\n",
        "\n",
        "Output:\n",
        "\n",
        "Epoch: 0 starting with accuracy 0.0875\n",
        "\n",
        "Epoch: 1 starting with accuracy 0.8909375\n",
        "\n",
        "Epoch: 2 starting with accuracy 0.90875\n",
        "\n",
        "Epoch: 3 starting with accuracy 0.9215625\n",
        "\n",
        "Epoch: 4 starting with accuracy 0.93125\n",
        "\n",
        "Epoch: 5 starting with accuracy 0.9309375\n",
        "\n",
        "Epoch: 6 starting with accuracy 0.933125\n",
        "\n",
        "Epoch: 7 starting with accuracy 0.9375\n",
        "\n",
        "Epoch: 8 starting with accuracy 0.9371875\n",
        "\n",
        "Epoch: 9 starting with accuracy 0.9446875\n",
        "\n",
        "When the learning rate increases, the accuracy in every epoch increases more than with the original learning rate. This was to be expected because the learning rate defines the step size by which we adjust the weights (as a factor for the calculated gradient loss)"
      ],
      "metadata": {
        "id": "tnZ1Q_W85kxv"
      }
    },
    {
      "cell_type": "markdown",
      "source": [
        "Change number of layers to num_layers = 4 (with num_units = 256)\n",
        "\n",
        "Epoch: 0 starting with accuracy 0.136875\n",
        "\n",
        "Epoch: 1 starting with accuracy 0.8234375\n",
        "\n",
        "Epoch: 2 starting with accuracy 0.86\n",
        "\n",
        "Epoch: 3 starting with accuracy 0.881875\n",
        "\n",
        "Epoch: 4 starting with accuracy 0.888125\n",
        "\n",
        "Epoch: 5 starting with accuracy 0.89625\n",
        "\n",
        "Epoch: 6 starting with accuracy 0.9028125\n",
        "\n",
        "Epoch: 7 starting with accuracy 0.90125\n",
        "\n",
        "Epoch: 8 starting with accuracy 0.90375\n",
        "\n",
        "Epoch: 9 starting with accuracy 0.9028125\n",
        "\n",
        "The network shows a very similar learning behavior, which intuitively seemed quite surprising to me. However, as the 3 layered network already performes very well in this task, the extra layer cannot significantly improve the models performance. I would expect that this is due to the quite simple complexity of the task and if the inputs were more complex images for example, then an extra layer would show more efficiently.\n"
      ],
      "metadata": {
        "id": "nHNoPNXC9Hz8"
      }
    },
    {
      "cell_type": "markdown",
      "source": [
        "Change size of layers to size_layers = [20, 20, 10]\n",
        "\n",
        "Output:\n",
        "\n",
        "Epoch: 0 starting with accuracy 0.0953125\n",
        "\n",
        "Epoch: 1 starting with accuracy 0.3525\n",
        "\n",
        "Epoch: 2 starting with accuracy 0.6828125\n",
        "\n",
        "Epoch: 3 starting with accuracy 0.778125\n",
        "\n",
        "Epoch: 4 starting with accuracy 0.8128125\n",
        "\n",
        "Epoch: 5 starting with accuracy 0.8409375\n",
        "\n",
        "Epoch: 6 starting with accuracy 0.855625\n",
        "\n",
        "Epoch: 7 starting with accuracy 0.860625\n",
        "\n",
        "Epoch: 8 starting with accuracy 0.8703125\n",
        "\n",
        "Epoch: 9 starting with accuracy 0.8784375\n",
        "\n",
        "The network with less units learns slower but as also the bigger network begins stagnating after having reached an accuracy of about 0.80, the same happens in the smaller network. The difference is the higher number of epochs here. I suggest that this lower learning effect is due to the smaller representational space. A network with more units can represent more complex patterns."
      ],
      "metadata": {
        "id": "iipCDCnPCykO"
      }
    },
    {
      "cell_type": "markdown",
      "source": [
        "Diminish size of layers but increase number of layers, so num_layers = 4, size_layers = [20, 20, 20, 10]\n",
        "\n",
        "Epoch: 0 starting with accuracy 0.09625\n",
        "\n",
        "Epoch: 1 starting with accuracy 0.344375\n",
        "\n",
        "Epoch: 2 starting with accuracy 0.540625\n",
        "\n",
        "Epoch: 3 starting with accuracy 0.6953125\n",
        "\n",
        "Epoch: 4 starting with accuracy 0.7828125\n",
        "\n",
        "Epoch: 5 starting with accuracy 0.8265625\n",
        "\n",
        "Epoch: 6 starting with accuracy 0.8453125\n",
        "\n",
        "Epoch: 7 starting with accuracy 0.864375\n",
        "\n",
        "Epoch: 8 starting with accuracy 0.86875\n",
        "\n",
        "Epoch: 9 starting with accuracy 0.8828125\n",
        "\n",
        "\n",
        "This output is very similar to the one where I only decreased the number of units per layer. Therefore, the effect of an additional layer in this network is minimal, even with less units. It seems that the task complexity is \"too low\" in order to make use of more depth."
      ],
      "metadata": {
        "id": "-oiCivqFLbpk"
      }
    }
  ]
}